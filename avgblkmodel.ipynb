{
 "cells": [
  {
   "cell_type": "raw",
   "metadata": {},
   "source": [
    "Motivation:\n",
    "    \n",
    "Given the information on gpu and kernel, model the concurrent kernel runtime.\n",
    "\n",
    "Shortcomings:\n",
    "* assume the kernels are in 1D grid\n",
    "* running the same kernels, but should be different in the real world"
   ]
  },
  {
   "cell_type": "code",
   "execution_count": 42,
   "metadata": {
    "collapsed": true
   },
   "outputs": [],
   "source": [
    "from math import *\n",
    "import pandas as pd\n",
    "import numpy as np"
   ]
  },
  {
   "cell_type": "code",
   "execution_count": 21,
   "metadata": {
    "collapsed": true
   },
   "outputs": [],
   "source": [
    "class DeviceInfo():\n",
    "    def __init__(self, sm_num=0, sharedmem_per_sm=0, reg_per_sm=0, maxthreads_per_sm=0):\n",
    "        self.sm_num = sm_num\n",
    "        self.sharedmem_per_sm = sharedmem_per_sm # bytes\n",
    "        self.reg_per_sm = reg_per_sm\n",
    "        self.maxthreads_per_sm = maxthreads_per_sm\n",
    "        \n",
    "class KernelInfo():\n",
    "    def __init__(self, blockDim=0, gridDim=0, reg_per_thread=0, sharedmem_per_blk=0, runtime_ms = 0):\n",
    "        self.blockDim = blockDim\n",
    "        self.gridDim = gridDim\n",
    "        self.reg_per_thread = reg_per_thread\n",
    "        self.sharedmem_per_blk =  sharedmem_per_blk\n",
    "        self.runtime_ms = runtime_ms"
   ]
  },
  {
   "cell_type": "code",
   "execution_count": 22,
   "metadata": {
    "collapsed": false
   },
   "outputs": [],
   "source": [
    "gtx950 = DeviceInfo()\n",
    "gtx950.sm_num = 6\n",
    "gtx950.sharedmem_per_sm = 49152\n",
    "gtx950.reg_per_sm = 65536\n",
    "gtx950.maxthreads_per_sm = 2048"
   ]
  },
  {
   "cell_type": "code",
   "execution_count": 23,
   "metadata": {
    "collapsed": true
   },
   "outputs": [],
   "source": [
    "kernel = KernelInfo()\n",
    "kernel.blockDim = 256\n",
    "kernel.gridDim = 90\n",
    "kernel.reg_per_thread = 28\n",
    "kernel.sharedmem_per_blk= 0\n",
    "kernel.runtime_ms = 0.057249"
   ]
  },
  {
   "cell_type": "markdown",
   "metadata": {},
   "source": [
    "### compute average block execution time"
   ]
  },
  {
   "cell_type": "code",
   "execution_count": 24,
   "metadata": {
    "collapsed": true
   },
   "outputs": [],
   "source": [
    "def MaxBLK_Per_SM(Gpu, Kern):\n",
    "    \"\"\"\n",
    "    Compute the max blocks on one SM\n",
    "    \"\"\"\n",
    "    warp_size = 32\n",
    "    DeviceLimit = Gpu.maxthreads_per_sm / 32\n",
    "    \n",
    "    blocks_by_sm = DeviceLimit\n",
    "    \n",
    "    if Kern.sharedmem_per_blk > 0:\n",
    "        blocks_by_sm = floor(Gpu.sharedmem_per_sm / float(Kern.sharedmem_per_blk)) # int operation\n",
    "        \n",
    "    blocks_by_reg = floor(Gpu.reg_per_sm / float(Kern.reg_per_thread * Kern.blockDim))\n",
    "    \n",
    "    blocks_by_threads = floor(Gpu.maxthreads_per_sm / float(Kern.blockDim))\n",
    "    \n",
    "    # maxblks_per_sm\n",
    "    return min([blocks_by_sm, blocks_by_reg, blocks_by_threads])"
   ]
  },
  {
   "cell_type": "code",
   "execution_count": 25,
   "metadata": {
    "collapsed": false
   },
   "outputs": [
    {
     "name": "stdout",
     "output_type": "stream",
     "text": [
      "8.0\n"
     ]
    }
   ],
   "source": [
    "max_blk_per_sm = MaxBLK_Per_SM(gtx950, kernel)\n",
    "print max_blk_per_sm"
   ]
  },
  {
   "cell_type": "code",
   "execution_count": 27,
   "metadata": {
    "collapsed": false
   },
   "outputs": [
    {
     "name": "stdout",
     "output_type": "stream",
     "text": [
      "iterations 2.0\n",
      "avg block execution time (ms) : 0.0286245\n"
     ]
    }
   ],
   "source": [
    "# max blocks that can be launhed on gpu at once time\n",
    "# if there are more blocks, they will wait for the next iteration\n",
    "# each SM starts and finishes at the same time\n",
    "# all the blocks on that SM starts and ends at the same time\n",
    "block_per_iteration = gtx950.sm_num * max_blk_per_sm\n",
    "\n",
    "iterations = ceil(kernel.gridDim / block_per_iteration) # total iterations\n",
    "print 'iterations ' + str(iterations)\n",
    "\n",
    "# divide the kernel runtime by the number of iterations will be the avg block exeuction time for our model\n",
    "avg_blk_time = kernel.runtime_ms / float(iterations)\n",
    "print('avg block execution time (ms) : {}'.format(avg_blk_time))"
   ]
  },
  {
   "cell_type": "markdown",
   "metadata": {},
   "source": [
    "### Now we model the multiple kernel concurrent execution time"
   ]
  },
  {
   "cell_type": "code",
   "execution_count": 29,
   "metadata": {
    "collapsed": true
   },
   "outputs": [],
   "source": [
    "class sm_stat:\n",
    "    def __init__(self, thread=0, reg=0, sharedmem = 0, full=0, batch = 1):\n",
    "        self.thread = thread\n",
    "        self.reg= reg\n",
    "        self.sharedmem = sharedmem\n",
    "        self.full = full\n",
    "        self.batch = batch\n",
    "\n",
    "    def init(self, gtx950):\n",
    "        self.thread = gtx950.maxthreads_per_sm\n",
    "        self.reg = gtx950.reg_per_sm\n",
    "        self.sharedmem = gtx950.sharedmem_per_sm\n",
    "        self.full = 0 \n",
    "        self.batch = 1\n",
    "    \n",
    "    def replenish(self, gtx950):\n",
    "        self.thread = gtx950.maxthreads_per_sm\n",
    "        self.reg = gtx950.reg_per_sm\n",
    "        self.sharedmem = gtx950.sharedmem_per_sm\n",
    "        self.full = 0 \n",
    "        self.batch += 1 # add\n",
    "        \n",
    "    def allocate_block(self, Kern):\n",
    "        self.thread -= Kern.blockDim\n",
    "        self.reg -= Kern.reg_per_thread * Kern.blockDim\n",
    "        self.sharedmem -= Kern.sharedmem_per_blk\n",
    "\n",
    "        \n",
    "def check_sm_resource(current_sm, block_info):\n",
    "    enough_thread = current_sm.thread >= block_info.blockDim\n",
    "    enough_reg = current_sm.reg >= (block_info.reg_per_thread * block_info.blockDim)\n",
    "    enough_sm = current_sm.sharedmem >= block_info.sharedmem_per_blk\n",
    "    \n",
    "    allocate = 0\n",
    "    if enough_thread and enough_reg and enough_sm:\n",
    "        allocate = 1\n",
    "    \n",
    "    return allocate"
   ]
  },
  {
   "cell_type": "code",
   "execution_count": 30,
   "metadata": {
    "collapsed": true
   },
   "outputs": [],
   "source": [
    "# init SM status\n",
    "sm_num = gtx950.sm_num\n",
    "sms = [sm_stat() for i in range(sm_num)]\n",
    "\n",
    "for i in range(sm_num):\n",
    "    sms[i].init(gtx950)"
   ]
  },
  {
   "cell_type": "code",
   "execution_count": 32,
   "metadata": {
    "collapsed": false
   },
   "outputs": [
    {
     "name": "stdout",
     "output_type": "stream",
     "text": [
      "256\n",
      "90\n",
      "28\n",
      "0\n",
      "0.057249\n"
     ]
    }
   ],
   "source": [
    "print kernel.blockDim\n",
    "print kernel.gridDim\n",
    "print kernel.reg_per_thread\n",
    "print kernel.sharedmem_per_blk\n",
    "print kernel.runtime_ms"
   ]
  },
  {
   "cell_type": "code",
   "execution_count": 33,
   "metadata": {
    "collapsed": true
   },
   "outputs": [],
   "source": [
    "# a trace table to record all the block trace: using pd dataframe\n",
    "trace_table = pd.DataFrame(columns=['sm_id', 'block_id', 'block_start', 'block_end', 'batch_id', 'kernel_id'])"
   ]
  },
  {
   "cell_type": "code",
   "execution_count": 35,
   "metadata": {
    "collapsed": true
   },
   "outputs": [],
   "source": [
    "# simulate kernel number\n",
    "kernel_num = 2\n",
    "\n",
    "# note, we are running two identical one, but we can change that\n",
    "kernels = [kernel for i in range(kernel_num)]"
   ]
  },
  {
   "cell_type": "code",
   "execution_count": 36,
   "metadata": {
    "collapsed": false
   },
   "outputs": [
    {
     "name": "stdout",
     "output_type": "stream",
     "text": [
      "256\n",
      "256\n"
     ]
    }
   ],
   "source": [
    "print kernels[0].blockDim\n",
    "print kernels[1].blockDim"
   ]
  },
  {
   "cell_type": "code",
   "execution_count": 38,
   "metadata": {
    "collapsed": false
   },
   "outputs": [
    {
     "name": "stdout",
     "output_type": "stream",
     "text": [
      "0\n",
      "5\n"
     ]
    }
   ],
   "source": [
    "sm2start = 0\n",
    "\n",
    "for i in range(kernel_num):\n",
    "    kern = kernels[i] # schedule current kernel on the device\n",
    "    kernel_blocks = int(kern.gridDim) # total block for current kern\n",
    "    \n",
    "    last_block_on_sm = 0\n",
    "    \n",
    "    #print sm2start\n",
    "    \n",
    "    for bid in range(kernel_blocks):\n",
    "        sm_id = (bid + sm2start) % sm_num\n",
    "            \n",
    "        # check whether current sm has enough resources to host the block\n",
    "        to_allocate_another_block = check_sm_resource(sms[sm_id], kernel)\n",
    "\n",
    "        if to_allocate_another_block == 1:\n",
    "            sms[sm_id].allocate_block(kernel)\n",
    "        else:\n",
    "            # consider it full, update the resources, and register in the trace table\n",
    "            sms[sm_id].replenish(gtx950)\n",
    "            sms[sm_id].allocate_block(kernel)\n",
    "            \n",
    "        # register the block in the trace table\n",
    "        # note: avg blk time for current kernel\n",
    "        block_end = sms[sm_id].batch * avg_blk_time\n",
    "        block_start = block_end - avg_blk_time\n",
    "        trace_table = trace_table.append({'sm_id': sm_id, \n",
    "                                          'block_id': bid, \n",
    "                                          'block_start': block_start,\n",
    "                                          'block_end' : block_end,\n",
    "                                          'batch_id': sms[sm_id].batch,\n",
    "                                          'kernel_id': i}, ignore_index=True)\n",
    "        last_block_on_sm = sm_id\n",
    "        \n",
    "    # end of running previous kernel blocks\n",
    "    sm2start = last_block_on_sm"
   ]
  },
  {
   "cell_type": "code",
   "execution_count": 39,
   "metadata": {
    "collapsed": true
   },
   "outputs": [],
   "source": [
    "def run_plot_cke(df_s1, df_s2):\n",
    "    import matplotlib.pyplot as plt\n",
    "    \n",
    "    df_s1['y_axis'] = pd.Series(np.arange(1,len(df_s1.index)+1), \n",
    "                                 index=df_s1.index)\n",
    "    \n",
    "    df_s2['y_axis'] = pd.Series(np.arange(1,len(df_s2.index)+1) + 0.1, \n",
    "                                 index=df_s2.index)\n",
    "                                     \n",
    "    x0=df_s1['block_start']\n",
    "    x1=df_s1['block_end']\n",
    "    y0=df_s1['y_axis']\n",
    "                                \n",
    "    x0_=df_s2['block_start']\n",
    "    x1_=df_s2['block_end']\n",
    "    y0_=df_s2['y_axis']\n",
    "\n",
    "    ylim_max = max(df_s1['y_axis']) + 1\n",
    "    axes = plt.gca()\n",
    "    axes.set_ylim([0, ylim_max])\n",
    "\n",
    "    plt.hlines(y0,x0,x1, lw=2, color='r')\n",
    "    plt.hlines(y0_,x0_,x1_, lw=2, color='k')\n",
    "                                \n",
    "#     plt.title('Memory Bound')\n",
    "    plt.xlabel('Time(clocks)')\n",
    "    plt.ylabel('Blocks')\n",
    "    plt.show()"
   ]
  },
  {
   "cell_type": "code",
   "execution_count": 40,
   "metadata": {
    "collapsed": true
   },
   "outputs": [],
   "source": [
    "# extract the sm-0 data\n",
    "df_sm = trace_table.loc[trace_table['sm_id'] == 0]\n",
    "\n",
    "df_kern0 = df_sm.loc[df_sm['kernel_id'] == 0]\n",
    "df_kern1 = df_sm.loc[df_sm['kernel_id'] == 1]\n"
   ]
  },
  {
   "cell_type": "code",
   "execution_count": 43,
   "metadata": {
    "collapsed": false
   },
   "outputs": [
    {
     "name": "stderr",
     "output_type": "stream",
     "text": [
      "/home/leiming/anaconda2/lib/python2.7/site-packages/ipykernel/__main__.py:5: SettingWithCopyWarning: \n",
      "A value is trying to be set on a copy of a slice from a DataFrame.\n",
      "Try using .loc[row_indexer,col_indexer] = value instead\n",
      "\n",
      "See the caveats in the documentation: http://pandas.pydata.org/pandas-docs/stable/indexing.html#indexing-view-versus-copy\n",
      "/home/leiming/anaconda2/lib/python2.7/site-packages/ipykernel/__main__.py:8: SettingWithCopyWarning: \n",
      "A value is trying to be set on a copy of a slice from a DataFrame.\n",
      "Try using .loc[row_indexer,col_indexer] = value instead\n",
      "\n",
      "See the caveats in the documentation: http://pandas.pydata.org/pandas-docs/stable/indexing.html#indexing-view-versus-copy\n"
     ]
    },
    {
     "data": {
      "image/png": "[encoded data removed]",
      "text/plain": [
       "<matplotlib.figure.Figure at 0x7f22ce32df10>"
      ]
     },
     "metadata": {},
     "output_type": "display_data"
    }
   ],
   "source": [
    "run_plot_cke(df_kern0, df_kern1)"
   ]
  }
 ],
 "metadata": {
  "kernelspec": {
   "display_name": "Python [conda root]",
   "language": "python",
   "name": "conda-root-py"
  },
  "language_info": {
   "codemirror_mode": {
    "name": "ipython",
    "version": 2
   },
   "file_extension": ".py",
   "mimetype": "text/x-python",
   "name": "python",
   "nbconvert_exporter": "python",
   "pygments_lexer": "ipython2",
   "version": "2.7.13"
  }
 },
 "nbformat": 4,
 "nbformat_minor": 2
}
